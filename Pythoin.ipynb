{
 "cells": [
  {
   "cell_type": "markdown",
   "metadata": {},
   "source": [
    "# markdown\n",
    "## markdown\n",
    "### markdown\n",
    "#### markdown\n",
    "##### markdown\n",
    "##### markdown\n",
    "###### markdown\n",
    "####### \n"
   ]
  },
  {
   "cell_type": "markdown",
   "metadata": {},
   "source": [
    "* *text*\n",
    "* **text**\n",
    "* ***text***"
   ]
  },
  {
   "cell_type": "markdown",
   "metadata": {},
   "source": [
    "-heading\n",
    "    -subtext\n",
    "    -subtext"
   ]
  },
  {
   "cell_type": "markdown",
   "metadata": {},
   "source": [
    "-heading\n",
    "    - subtext\n",
    "    - subtext"
   ]
  },
  {
   "cell_type": "markdown",
   "metadata": {},
   "source": [
    "![image](https://www.google.com/imgres?imgurl=https%3A%2F%2Fimage.shutterstock.com%2Fimage-photo%2Fmountains-during-sunset-beautiful-natural-260nw-407021107.jpg&imgrefurl=https%3A%2F%2Fwww.shutterstock.com%2Fcategory%2Fnature&docid=LlgDpz1LoiuznM&tbnid=wW5BhncqphFQ0M%3A&vet=10ahUKEwizw9DO0pjmAhVWbn0KHQ8vBaAQMwh5KAAwAA..i&w=435&h=280&safe=active&bih=789&biw=1440&q=images&ved=0ahUKEwizw9DO0pjmAhVWbn0KHQ8vBaAQMwh5KAAwAA&iact=mrc&uact=8)"
   ]
  },
  {
   "cell_type": "markdown",
   "metadata": {},
   "source": [
    "![image](data:image/jpeg;base64,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)"
   ]
  },
  {
   "cell_type": "markdown",
   "metadata": {},
   "source": [
    "![amrutha](data:image/jpeg;base64,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)"
   ]
  },
  {
   "cell_type": "markdown",
   "metadata": {},
   "source": [
    "[text](https://drive.google.com/drive/my-drive)"
   ]
  },
  {
   "cell_type": "markdown",
   "metadata": {},
   "source": [
    "![m](https://image.shutterstock.com/image-photo/colorful-flower-on-dark-tropical-260nw-721703848.jpg)"
   ]
  },
  {
   "cell_type": "code",
   "execution_count": 2,
   "metadata": {},
   "outputs": [
    {
     "name": "stdout",
     "output_type": "stream",
     "text": [
      "hello\n"
     ]
    }
   ],
   "source": [
    "print('hello')"
   ]
  },
  {
   "cell_type": "code",
   "execution_count": 3,
   "metadata": {},
   "outputs": [
    {
     "name": "stdout",
     "output_type": "stream",
     "text": [
      "print\n"
     ]
    }
   ],
   "source": [
    "print(\"print\")"
   ]
  },
  {
   "cell_type": "code",
   "execution_count": 4,
   "metadata": {},
   "outputs": [
    {
     "name": "stdout",
     "output_type": "stream",
     "text": [
      "hello world***hii\n"
     ]
    }
   ],
   "source": [
    "print(\"hello world\",end=\"***\")\n",
    "print(\"hii\")"
   ]
  },
  {
   "cell_type": "code",
   "execution_count": 5,
   "metadata": {},
   "outputs": [
    {
     "name": "stdout",
     "output_type": "stream",
     "text": [
      "hello    hi\n"
     ]
    }
   ],
   "source": [
    "print('hello',end='    ')\n",
    "print('hi')"
   ]
  },
  {
   "cell_type": "code",
   "execution_count": 6,
   "metadata": {},
   "outputs": [],
   "source": [
    "a1=10"
   ]
  },
  {
   "cell_type": "code",
   "execution_count": 11,
   "metadata": {},
   "outputs": [
    {
     "name": "stdout",
     "output_type": "stream",
     "text": [
      "10\n"
     ]
    }
   ],
   "source": [
    "a1=10\n",
    "print(a1)"
   ]
  },
  {
   "cell_type": "code",
   "execution_count": 12,
   "metadata": {},
   "outputs": [
    {
     "ename": "SyntaxError",
     "evalue": "invalid syntax (<ipython-input-12-c80984069099>, line 2)",
     "output_type": "error",
     "traceback": [
      "\u001b[1;36m  File \u001b[1;32m\"<ipython-input-12-c80984069099>\"\u001b[1;36m, line \u001b[1;32m2\u001b[0m\n\u001b[1;33m    print(*_*)\u001b[0m\n\u001b[1;37m             ^\u001b[0m\n\u001b[1;31mSyntaxError\u001b[0m\u001b[1;31m:\u001b[0m invalid syntax\n"
     ]
    }
   ],
   "source": [
    "*_*=10\n",
    "print(*_*)"
   ]
  },
  {
   "cell_type": "code",
   "execution_count": 13,
   "metadata": {},
   "outputs": [
    {
     "name": "stdout",
     "output_type": "stream",
     "text": [
      "10\n"
     ]
    }
   ],
   "source": [
    "_=10\n",
    "print(_)"
   ]
  },
  {
   "cell_type": "code",
   "execution_count": 14,
   "metadata": {},
   "outputs": [
    {
     "name": "stdout",
     "output_type": "stream",
     "text": [
      "1 2 3\n"
     ]
    }
   ],
   "source": [
    "a,b,c=1,2,3\n",
    "print(a,b,c)"
   ]
  },
  {
   "cell_type": "code",
   "execution_count": 15,
   "metadata": {},
   "outputs": [
    {
     "name": "stdout",
     "output_type": "stream",
     "text": [
      "3 3 3\n"
     ]
    }
   ],
   "source": [
    "a=b=c\n",
    "print(a,b,c)"
   ]
  },
  {
   "cell_type": "code",
   "execution_count": 16,
   "metadata": {},
   "outputs": [
    {
     "name": "stdout",
     "output_type": "stream",
     "text": [
      "6 6 6\n"
     ]
    }
   ],
   "source": [
    "a=b=c=6\n",
    "print(a,b,c)"
   ]
  },
  {
   "cell_type": "code",
   "execution_count": 17,
   "metadata": {},
   "outputs": [
    {
     "name": "stdout",
     "output_type": "stream",
     "text": [
      "python p\n"
     ]
    }
   ],
   "source": [
    "a=\"python\"\n",
    "b=\"p\"\n",
    "print(a,b)"
   ]
  },
  {
   "cell_type": "code",
   "execution_count": 18,
   "metadata": {},
   "outputs": [
    {
     "data": {
      "text/plain": [
       "float"
      ]
     },
     "execution_count": 18,
     "metadata": {},
     "output_type": "execute_result"
    }
   ],
   "source": [
    "a=12.8\n",
    "type(a)"
   ]
  },
  {
   "cell_type": "code",
   "execution_count": 19,
   "metadata": {},
   "outputs": [
    {
     "name": "stdout",
     "output_type": "stream",
     "text": [
      "<class 'float'>\n"
     ]
    },
    {
     "data": {
      "text/plain": [
       "63407920"
      ]
     },
     "execution_count": 19,
     "metadata": {},
     "output_type": "execute_result"
    }
   ],
   "source": [
    "a=31.7\n",
    "print(type(a))\n",
    "id(a)"
   ]
  },
  {
   "cell_type": "code",
   "execution_count": 22,
   "metadata": {},
   "outputs": [
    {
     "name": "stdout",
     "output_type": "stream",
     "text": [
      "1645136176 1645136176\n"
     ]
    }
   ],
   "source": [
    "a=10\n",
    "b=10\n",
    "print(id(a),id(b))"
   ]
  },
  {
   "cell_type": "code",
   "execution_count": 24,
   "metadata": {},
   "outputs": [
    {
     "name": "stdout",
     "output_type": "stream",
     "text": [
      "False False 6\n"
     ]
    }
   ],
   "source": [
    "a=b=c==1\n",
    "print(a,b,c)"
   ]
  },
  {
   "cell_type": "code",
   "execution_count": 25,
   "metadata": {},
   "outputs": [
    {
     "name": "stdout",
     "output_type": "stream",
     "text": [
      "False False 6\n"
     ]
    }
   ],
   "source": [
    "a,b,c==1\n",
    "print(a,b,c)"
   ]
  },
  {
   "cell_type": "code",
   "execution_count": 26,
   "metadata": {},
   "outputs": [
    {
     "ename": "NameError",
     "evalue": "name 'p' is not defined",
     "output_type": "error",
     "traceback": [
      "\u001b[1;31m---------------------------------------------------------------------------\u001b[0m",
      "\u001b[1;31mNameError\u001b[0m                                 Traceback (most recent call last)",
      "\u001b[1;32m<ipython-input-26-11d96ec6bb4c>\u001b[0m in \u001b[0;36m<module>\u001b[1;34m\u001b[0m\n\u001b[1;32m----> 1\u001b[1;33m \u001b[0mp\u001b[0m\u001b[1;33m,\u001b[0m\u001b[0mq\u001b[0m\u001b[1;33m,\u001b[0m\u001b[0mr\u001b[0m\u001b[1;33m==\u001b[0m\u001b[1;36m1\u001b[0m\u001b[1;33m\u001b[0m\u001b[1;33m\u001b[0m\u001b[0m\n\u001b[0m\u001b[0;32m      2\u001b[0m \u001b[0mprint\u001b[0m\u001b[1;33m(\u001b[0m\u001b[0mp\u001b[0m\u001b[1;33m,\u001b[0m\u001b[0mq\u001b[0m\u001b[1;33m,\u001b[0m\u001b[0mr\u001b[0m\u001b[1;33m)\u001b[0m\u001b[1;33m\u001b[0m\u001b[1;33m\u001b[0m\u001b[0m\n",
      "\u001b[1;31mNameError\u001b[0m: name 'p' is not defined"
     ]
    }
   ],
   "source": [
    "p,q,r==1\n",
    "print(p,q,r)"
   ]
  },
  {
   "cell_type": "code",
   "execution_count": 27,
   "metadata": {},
   "outputs": [
    {
     "ename": "NameError",
     "evalue": "name 'p' is not defined",
     "output_type": "error",
     "traceback": [
      "\u001b[1;31m---------------------------------------------------------------------------\u001b[0m",
      "\u001b[1;31mNameError\u001b[0m                                 Traceback (most recent call last)",
      "\u001b[1;32m<ipython-input-27-6d3f3b40593d>\u001b[0m in \u001b[0;36m<module>\u001b[1;34m\u001b[0m\n\u001b[1;32m----> 1\u001b[1;33m \u001b[0mp\u001b[0m\u001b[1;33m,\u001b[0m\u001b[0mq\u001b[0m\u001b[1;33m,\u001b[0m\u001b[0mr\u001b[0m\u001b[1;33m==\u001b[0m\u001b[1;36m1\u001b[0m\u001b[1;33m\u001b[0m\u001b[1;33m\u001b[0m\u001b[0m\n\u001b[0m\u001b[0;32m      2\u001b[0m \u001b[0mprint\u001b[0m\u001b[1;33m(\u001b[0m\u001b[0mp\u001b[0m\u001b[1;33m)\u001b[0m\u001b[1;33m\u001b[0m\u001b[1;33m\u001b[0m\u001b[0m\n",
      "\u001b[1;31mNameError\u001b[0m: name 'p' is not defined"
     ]
    }
   ],
   "source": [
    "p,q,r==1\n",
    "print(p)"
   ]
  },
  {
   "cell_type": "code",
   "execution_count": 37,
   "metadata": {},
   "outputs": [
    {
     "name": "stdout",
     "output_type": "stream",
     "text": [
      "1 1 1\n"
     ]
    }
   ],
   "source": [
    "p=q=r=1\n",
    "print(p,q,r)"
   ]
  },
  {
   "cell_type": "code",
   "execution_count": 34,
   "metadata": {},
   "outputs": [
    {
     "name": "stdout",
     "output_type": "stream",
     "text": [
      "my name is GITAM and my age is 9\n"
     ]
    }
   ],
   "source": [
    "name=\"GITAM\"\n",
    "age=9\n",
    "print(\"my name is\",name,\"and my age is\",age)"
   ]
  },
  {
   "cell_type": "code",
   "execution_count": 38,
   "metadata": {},
   "outputs": [],
   "source": [
    "a=b=12"
   ]
  },
  {
   "cell_type": "code",
   "execution_count": 39,
   "metadata": {},
   "outputs": [
    {
     "data": {
      "text/plain": [
       "12"
      ]
     },
     "execution_count": 39,
     "metadata": {},
     "output_type": "execute_result"
    }
   ],
   "source": [
    "a"
   ]
  },
  {
   "cell_type": "code",
   "execution_count": 40,
   "metadata": {},
   "outputs": [
    {
     "data": {
      "text/plain": [
       "12"
      ]
     },
     "execution_count": 40,
     "metadata": {},
     "output_type": "execute_result"
    }
   ],
   "source": [
    "b"
   ]
  },
  {
   "cell_type": "code",
   "execution_count": 43,
   "metadata": {},
   "outputs": [
    {
     "name": "stdout",
     "output_type": "stream",
     "text": [
      "enter a number1233\n"
     ]
    },
    {
     "data": {
      "text/plain": [
       "int"
      ]
     },
     "execution_count": 43,
     "metadata": {},
     "output_type": "execute_result"
    }
   ],
   "source": [
    "c = int(input(\"enter a number\"))\n",
    "type(c)"
   ]
  },
  {
   "cell_type": "code",
   "execution_count": 44,
   "metadata": {},
   "outputs": [
    {
     "name": "stdout",
     "output_type": "stream",
     "text": [
      "enter a number12\n"
     ]
    },
    {
     "data": {
      "text/plain": [
       "float"
      ]
     },
     "execution_count": 44,
     "metadata": {},
     "output_type": "execute_result"
    }
   ],
   "source": [
    " d = float(input(\"enter a number\"))\n",
    "type(d)"
   ]
  },
  {
   "cell_type": "code",
   "execution_count": 47,
   "metadata": {},
   "outputs": [
    {
     "name": "stdout",
     "output_type": "stream",
     "text": [
      "no1 1\n",
      "no2 5\n",
      "no3 2\n",
      "sum is 8.0\n",
      "product is 10.0\n"
     ]
    }
   ],
   "source": [
    "a = int(input(\"no1 \"))\n",
    "b = int(input(\"no2 \"))\n",
    "c = float(input(\"no3 \"))\n",
    "d = a+b+c\n",
    "print(\"sum is\",d)\n",
    "e = a*b*c\n",
    "print(\"product is\",e)"
   ]
  },
  {
   "cell_type": "code",
   "execution_count": 60,
   "metadata": {},
   "outputs": [
    {
     "name": "stdout",
     "output_type": "stream",
     "text": [
      "no1 5\n",
      "no2 10\n",
      "2.0\n",
      "0\n"
     ]
    }
   ],
   "source": [
    "a = int(input(\"no1 \"))\n",
    "b = int(input(\"no2 \"))\n",
    "f = b/a\n",
    "print(f)\n",
    "g = b%a\n",
    "print(g)"
   ]
  },
  {
   "cell_type": "code",
   "execution_count": 50,
   "metadata": {},
   "outputs": [
    {
     "data": {
      "text/plain": [
       "complex"
      ]
     },
     "execution_count": 50,
     "metadata": {},
     "output_type": "execute_result"
    }
   ],
   "source": [
    "z=2+3j\n",
    "type(z)"
   ]
  },
  {
   "cell_type": "code",
   "execution_count": 52,
   "metadata": {},
   "outputs": [
    {
     "data": {
      "text/plain": [
       "complex"
      ]
     },
     "execution_count": 52,
     "metadata": {},
     "output_type": "execute_result"
    }
   ],
   "source": [
    "z = 2+3j\n",
    "type(z)"
   ]
  },
  {
   "cell_type": "code",
   "execution_count": 53,
   "metadata": {},
   "outputs": [
    {
     "name": "stdout",
     "output_type": "stream",
     "text": [
      "<class 'complex'>\n"
     ]
    }
   ],
   "source": [
    "z=2+3j\n",
    "type(z)\n",
    "print(type(z))"
   ]
  },
  {
   "cell_type": "code",
   "execution_count": 54,
   "metadata": {},
   "outputs": [],
   "source": [
    "y=float(45)"
   ]
  },
  {
   "cell_type": "code",
   "execution_count": 55,
   "metadata": {},
   "outputs": [
    {
     "data": {
      "text/plain": [
       "45.0"
      ]
     },
     "execution_count": 55,
     "metadata": {},
     "output_type": "execute_result"
    }
   ],
   "source": [
    "y"
   ]
  },
  {
   "cell_type": "code",
   "execution_count": 56,
   "metadata": {},
   "outputs": [],
   "source": [
    "y=complex(2,3)"
   ]
  },
  {
   "cell_type": "code",
   "execution_count": 57,
   "metadata": {},
   "outputs": [
    {
     "data": {
      "text/plain": [
       "(2+3j)"
      ]
     },
     "execution_count": 57,
     "metadata": {},
     "output_type": "execute_result"
    }
   ],
   "source": [
    "y"
   ]
  },
  {
   "cell_type": "code",
   "execution_count": 58,
   "metadata": {},
   "outputs": [
    {
     "name": "stdout",
     "output_type": "stream",
     "text": [
      "(3+8j)\n",
      "(1-2j)\n",
      "(-13+13j)\n"
     ]
    }
   ],
   "source": [
    "c1=2+3j\n",
    "c2=1+5j\n",
    "print(c1+c2)\n",
    "print(c1-c2)\n",
    "print(c1*c2)\n"
   ]
  },
  {
   "cell_type": "code",
   "execution_count": 61,
   "metadata": {},
   "outputs": [
    {
     "data": {
      "text/plain": [
       "bool"
      ]
     },
     "execution_count": 61,
     "metadata": {},
     "output_type": "execute_result"
    }
   ],
   "source": [
    "a=True\n",
    "type(a)"
   ]
  },
  {
   "cell_type": "code",
   "execution_count": 62,
   "metadata": {},
   "outputs": [
    {
     "data": {
      "text/plain": [
       "bool"
      ]
     },
     "execution_count": 62,
     "metadata": {},
     "output_type": "execute_result"
    }
   ],
   "source": [
    "b=False\n",
    "type(a)"
   ]
  },
  {
   "cell_type": "code",
   "execution_count": 63,
   "metadata": {},
   "outputs": [
    {
     "data": {
      "text/plain": [
       "True"
      ]
     },
     "execution_count": 63,
     "metadata": {},
     "output_type": "execute_result"
    }
   ],
   "source": [
    "a>b"
   ]
  },
  {
   "cell_type": "code",
   "execution_count": 64,
   "metadata": {},
   "outputs": [],
   "source": [
    "s1=\"abc\"\n",
    "s2='ans'"
   ]
  },
  {
   "cell_type": "code",
   "execution_count": 65,
   "metadata": {},
   "outputs": [
    {
     "data": {
      "text/plain": [
       "'abc'"
      ]
     },
     "execution_count": 65,
     "metadata": {},
     "output_type": "execute_result"
    }
   ],
   "source": [
    "s1"
   ]
  },
  {
   "cell_type": "code",
   "execution_count": 66,
   "metadata": {},
   "outputs": [
    {
     "data": {
      "text/plain": [
       "'ans'"
      ]
     },
     "execution_count": 66,
     "metadata": {},
     "output_type": "execute_result"
    }
   ],
   "source": [
    "s2"
   ]
  },
  {
   "cell_type": "code",
   "execution_count": 67,
   "metadata": {},
   "outputs": [
    {
     "data": {
      "text/plain": [
       "str"
      ]
     },
     "execution_count": 67,
     "metadata": {},
     "output_type": "execute_result"
    }
   ],
   "source": [
    "s3=str(100)\n",
    "type(s3)"
   ]
  },
  {
   "cell_type": "code",
   "execution_count": 68,
   "metadata": {},
   "outputs": [
    {
     "data": {
      "text/plain": [
       "int"
      ]
     },
     "execution_count": 68,
     "metadata": {},
     "output_type": "execute_result"
    }
   ],
   "source": [
    "d=int(173.5)\n",
    "type(d)"
   ]
  },
  {
   "cell_type": "code",
   "execution_count": 69,
   "metadata": {},
   "outputs": [
    {
     "data": {
      "text/plain": [
       "str"
      ]
     },
     "execution_count": 69,
     "metadata": {},
     "output_type": "execute_result"
    }
   ],
   "source": [
    "s=\"100\"\n",
    "type(s)"
   ]
  },
  {
   "cell_type": "code",
   "execution_count": 70,
   "metadata": {},
   "outputs": [
    {
     "data": {
      "text/plain": [
       "int"
      ]
     },
     "execution_count": 70,
     "metadata": {},
     "output_type": "execute_result"
    }
   ],
   "source": [
    "o=int(s)\n",
    "type(o)"
   ]
  },
  {
   "cell_type": "code",
   "execution_count": 71,
   "metadata": {},
   "outputs": [
    {
     "data": {
      "text/plain": [
       "float"
      ]
     },
     "execution_count": 71,
     "metadata": {},
     "output_type": "execute_result"
    }
   ],
   "source": [
    "g=1.5\n",
    "type(g)"
   ]
  },
  {
   "cell_type": "code",
   "execution_count": 73,
   "metadata": {},
   "outputs": [
    {
     "data": {
      "text/plain": [
       "int"
      ]
     },
     "execution_count": 73,
     "metadata": {},
     "output_type": "execute_result"
    }
   ],
   "source": [
    "p=int(g)\n",
    "type(p)"
   ]
  },
  {
   "cell_type": "code",
   "execution_count": 77,
   "metadata": {},
   "outputs": [
    {
     "data": {
      "text/plain": [
       "4"
      ]
     },
     "execution_count": 77,
     "metadata": {},
     "output_type": "execute_result"
    }
   ],
   "source": [
    "a='1234'\n",
    "len(a)"
   ]
  },
  {
   "cell_type": "code",
   "execution_count": 78,
   "metadata": {},
   "outputs": [
    {
     "data": {
      "text/plain": [
       "5"
      ]
     },
     "execution_count": 78,
     "metadata": {},
     "output_type": "execute_result"
    }
   ],
   "source": [
    "a=\"12345\"\n",
    "len(a)"
   ]
  },
  {
   "cell_type": "code",
   "execution_count": 80,
   "metadata": {},
   "outputs": [
    {
     "name": "stdout",
     "output_type": "stream",
     "text": [
      "30\n",
      "10\n",
      "200\n",
      "2.0\n",
      "0\n",
      "2\n",
      "10240000000000\n"
     ]
    }
   ],
   "source": [
    "a=20\n",
    "b=10\n",
    "print(a+b)\n",
    "print(a-b)\n",
    "print(a*b)\n",
    "print(a/b)\n",
    "print(a%b)\n",
    "print(a//b)\n",
    "print(a**b)"
   ]
  },
  {
   "cell_type": "code",
   "execution_count": 81,
   "metadata": {},
   "outputs": [
    {
     "name": "stdout",
     "output_type": "stream",
     "text": [
      "3\n"
     ]
    }
   ],
   "source": [
    "u=10\n",
    "g=3\n",
    "print(u//g)"
   ]
  },
  {
   "cell_type": "code",
   "execution_count": 82,
   "metadata": {},
   "outputs": [
    {
     "data": {
      "text/plain": [
       "2.4"
      ]
     },
     "execution_count": 82,
     "metadata": {},
     "output_type": "execute_result"
    }
   ],
   "source": [
    "12/5"
   ]
  },
  {
   "cell_type": "code",
   "execution_count": 83,
   "metadata": {},
   "outputs": [
    {
     "data": {
      "text/plain": [
       "2"
      ]
     },
     "execution_count": 83,
     "metadata": {},
     "output_type": "execute_result"
    }
   ],
   "source": [
    "12//5"
   ]
  },
  {
   "cell_type": "code",
   "execution_count": 85,
   "metadata": {},
   "outputs": [
    {
     "name": "stdout",
     "output_type": "stream",
     "text": [
      "0\n",
      "0\n"
     ]
    }
   ],
   "source": [
    "a=0\n",
    "b=0\n",
    "print(a and b)\n",
    "print(a or b)"
   ]
  },
  {
   "cell_type": "code",
   "execution_count": 86,
   "metadata": {},
   "outputs": [
    {
     "name": "stdout",
     "output_type": "stream",
     "text": [
      "0\n",
      "1\n"
     ]
    }
   ],
   "source": [
    "a=0\n",
    "b=1\n",
    "print(a and b)\n",
    "print(a or b)"
   ]
  },
  {
   "cell_type": "code",
   "execution_count": 87,
   "metadata": {},
   "outputs": [
    {
     "name": "stdout",
     "output_type": "stream",
     "text": [
      "0\n",
      "1\n"
     ]
    }
   ],
   "source": [
    "a=0\n",
    "b=1\n",
    "print(a and b)\n",
    "print(a or b)"
   ]
  },
  {
   "cell_type": "code",
   "execution_count": 88,
   "metadata": {},
   "outputs": [
    {
     "name": "stdout",
     "output_type": "stream",
     "text": [
      "1\n",
      "1\n"
     ]
    }
   ],
   "source": [
    "a=1\n",
    "b=1\n",
    "print(a and b)\n",
    "print(a or b)"
   ]
  },
  {
   "cell_type": "code",
   "execution_count": 89,
   "metadata": {},
   "outputs": [
    {
     "name": "stdout",
     "output_type": "stream",
     "text": [
      "False\n",
      "True\n"
     ]
    }
   ],
   "source": [
    "x=2\n",
    "y=3\n",
    "print(x>=5 and x<10)\n",
    "print(x>=5 or x<=10)"
   ]
  },
  {
   "cell_type": "code",
   "execution_count": 90,
   "metadata": {},
   "outputs": [
    {
     "name": "stdout",
     "output_type": "stream",
     "text": [
      "False\n"
     ]
    }
   ],
   "source": [
    "print(not(x))"
   ]
  },
  {
   "cell_type": "code",
   "execution_count": 91,
   "metadata": {},
   "outputs": [
    {
     "name": "stdout",
     "output_type": "stream",
     "text": [
      "False\n",
      "True\n",
      "False\n",
      "True\n",
      "True\n",
      "False\n"
     ]
    }
   ],
   "source": [
    "x=8\n",
    "y=5\n",
    "print(x==y)\n",
    "print(x!=y)\n",
    "print(x<=y)\n",
    "print(x>=y)\n",
    "print(x>y)\n",
    "print(x<y)\n",
    "\n",
    "\n"
   ]
  },
  {
   "cell_type": "code",
   "execution_count": 92,
   "metadata": {},
   "outputs": [
    {
     "name": "stdout",
     "output_type": "stream",
     "text": [
      "True\n",
      "False\n"
     ]
    }
   ],
   "source": [
    "str='abc'\n",
    "print('a' in str)\n",
    "print('a' not in str)"
   ]
  },
  {
   "cell_type": "code",
   "execution_count": 93,
   "metadata": {},
   "outputs": [
    {
     "name": "stdout",
     "output_type": "stream",
     "text": [
      "False\n",
      "True\n"
     ]
    }
   ],
   "source": [
    "str='abc'\n",
    "print('f' in str)\n",
    "print('g' not in str)"
   ]
  },
  {
   "cell_type": "code",
   "execution_count": 96,
   "metadata": {},
   "outputs": [
    {
     "name": "stdout",
     "output_type": "stream",
     "text": [
      "number45\n",
      "+\n"
     ]
    }
   ],
   "source": [
    "a = int(input(\"number\"))\n",
    "if a>0:\n",
    "    print('+')\n",
    "else:\n",
    "    print('-')"
   ]
  },
  {
   "cell_type": "code",
   "execution_count": 97,
   "metadata": {},
   "outputs": [
    {
     "name": "stdout",
     "output_type": "stream",
     "text": [
      "number-4\n",
      "-\n"
     ]
    }
   ],
   "source": [
    "a = int(input(\"number\"))\n",
    "if a>0:\n",
    "    print('+')\n",
    "else:\n",
    "    print('-')\n",
    "    "
   ]
  },
  {
   "cell_type": "code",
   "execution_count": 98,
   "metadata": {},
   "outputs": [
    {
     "name": "stdout",
     "output_type": "stream",
     "text": [
      "number0\n",
      "-\n"
     ]
    }
   ],
   "source": [
    "a = int(input(\"number\"))\n",
    "if a>0:\n",
    "    print('+')\n",
    "else:\n",
    "    print('-')"
   ]
  },
  {
   "cell_type": "code",
   "execution_count": 99,
   "metadata": {},
   "outputs": [
    {
     "name": "stdout",
     "output_type": "stream",
     "text": [
      "number5\n",
      "+\n"
     ]
    }
   ],
   "source": [
    "a = int(input(\"number\"))\n",
    "if a>0:\n",
    "    print('+')\n",
    "elif a<0:\n",
    "    print('-')\n",
    "else:\n",
    "    print('zero')"
   ]
  },
  {
   "cell_type": "code",
   "execution_count": 100,
   "metadata": {},
   "outputs": [
    {
     "name": "stdout",
     "output_type": "stream",
     "text": [
      "number-8\n",
      "-\n"
     ]
    }
   ],
   "source": [
    "a = int(input(\"number\"))\n",
    "if a>0:\n",
    "    print('+')\n",
    "elif a<0:\n",
    "    print('-')\n",
    "else:\n",
    "    print('zero')"
   ]
  },
  {
   "cell_type": "code",
   "execution_count": 101,
   "metadata": {},
   "outputs": [
    {
     "name": "stdout",
     "output_type": "stream",
     "text": [
      "number0\n",
      "zero\n"
     ]
    }
   ],
   "source": [
    "a = int(input(\"number\"))\n",
    "if a>0:\n",
    "    print('+')\n",
    "elif a<0:\n",
    "    print('-')\n",
    "else:\n",
    "    print('zero')"
   ]
  },
  {
   "cell_type": "code",
   "execution_count": 102,
   "metadata": {},
   "outputs": [
    {
     "name": "stdout",
     "output_type": "stream",
     "text": [
      "positive\n"
     ]
    }
   ],
   "source": [
    "a=10\n",
    "if a>0:\n",
    "    print(\"positive\")"
   ]
  },
  {
   "cell_type": "code",
   "execution_count": 103,
   "metadata": {},
   "outputs": [
    {
     "data": {
      "text/plain": [
       "'C:\\\\Users\\\\student'"
      ]
     },
     "execution_count": 103,
     "metadata": {},
     "output_type": "execute_result"
    }
   ],
   "source": [
    "pwd"
   ]
  },
  {
   "cell_type": "code",
   "execution_count": null,
   "metadata": {},
   "outputs": [],
   "source": []
  }
 ],
 "metadata": {
  "kernelspec": {
   "display_name": "Python 3",
   "language": "python",
   "name": "python3"
  },
  "language_info": {
   "codemirror_mode": {
    "name": "ipython",
    "version": 3
   },
   "file_extension": ".py",
   "mimetype": "text/x-python",
   "name": "python",
   "nbconvert_exporter": "python",
   "pygments_lexer": "ipython3",
   "version": "3.7.3"
  }
 },
 "nbformat": 4,
 "nbformat_minor": 2
}
