{
 "cells": [
  {
   "cell_type": "code",
   "execution_count": 1,
   "metadata": {},
   "outputs": [
    {
     "data": {
      "text/plain": [
       "10"
      ]
     },
     "execution_count": 1,
     "metadata": {},
     "output_type": "execute_result"
    }
   ],
   "source": [
    "def evensum(n):\n",
    "    sum=0\n",
    "    while n!=0:\n",
    "        r=n%10\n",
    "        if r%2==0:\n",
    "            sum=sum+r\n",
    "        n=n//10\n",
    "    return sum\n",
    "evensum(13528)"
   ]
  },
  {
   "cell_type": "code",
   "execution_count": 4,
   "metadata": {},
   "outputs": [
    {
     "data": {
      "text/plain": [
       "7"
      ]
     },
     "execution_count": 4,
     "metadata": {},
     "output_type": "execute_result"
    }
   ],
   "source": [
    "def largest(n):\n",
    "    v=0\n",
    "    while n!=0:\n",
    "        r=n%10\n",
    "        n=n//10\n",
    "        if v<r:\n",
    "            v=r\n",
    "    return v\n",
    "largest(4567)"
   ]
  },
  {
   "cell_type": "code",
   "execution_count": 9,
   "metadata": {},
   "outputs": [
    {
     "data": {
      "text/plain": [
       "4"
      ]
     },
     "execution_count": 9,
     "metadata": {},
     "output_type": "execute_result"
    }
   ],
   "source": [
    "def least(n):\n",
    "    v=9\n",
    "    while n!=0:\n",
    "        r=n%10\n",
    "        n=n//10\n",
    "        if r<v:\n",
    "            v=r\n",
    "    return v\n",
    "least(4567)"
   ]
  },
  {
   "cell_type": "code",
   "execution_count": 16,
   "metadata": {},
   "outputs": [
    {
     "name": "stdout",
     "output_type": "stream",
     "text": [
      "no\n",
      "no\n",
      "no\n"
     ]
    },
    {
     "data": {
      "text/plain": [
       "321"
      ]
     },
     "execution_count": 16,
     "metadata": {},
     "output_type": "execute_result"
    }
   ],
   "source": [
    "def palindrome(n):\n",
    "    re=0\n",
    "    while n!=0:\n",
    "        r=n%10\n",
    "        n=n//10\n",
    "        re=(re*10)+r\n",
    "        if re==n:\n",
    "            print('yes')\n",
    "        else:\n",
    "            print('no')\n",
    "    return re\n",
    "palindrome(123)"
   ]
  },
  {
   "cell_type": "code",
   "execution_count": 8,
   "metadata": {},
   "outputs": [
    {
     "data": {
      "text/plain": [
       "'not palindrome'"
      ]
     },
     "execution_count": 8,
     "metadata": {},
     "output_type": "execute_result"
    }
   ],
   "source": [
    "def palindrome(n):\n",
    "    re=0\n",
    "    a=n\n",
    "    while n!=0:\n",
    "        r=n%10\n",
    "        re=(re*10)+r\n",
    "        n=n//10\n",
    "    if re==n:\n",
    "       return \"palindrome\"\n",
    "    return \"not palindrome\"\n",
    "palindrome(123)\n"
   ]
  },
  {
   "cell_type": "code",
   "execution_count": 17,
   "metadata": {},
   "outputs": [
    {
     "data": {
      "text/plain": [
       "'palindrome'"
      ]
     },
     "execution_count": 17,
     "metadata": {},
     "output_type": "execute_result"
    }
   ],
   "source": [
    "def palindrome(n):\n",
    "    re=0\n",
    "    a=n\n",
    "    while n!=0:\n",
    "        r=n%10\n",
    "        re=(re*10)+r\n",
    "        n=n//10\n",
    "    if re==a:\n",
    "        return \"palindrome\"\n",
    "    return \"not palindrome\"\n",
    "palindrome(121)"
   ]
  },
  {
   "cell_type": "code",
   "execution_count": 18,
   "metadata": {},
   "outputs": [
    {
     "data": {
      "text/plain": [
       "'not palindrome'"
      ]
     },
     "execution_count": 18,
     "metadata": {},
     "output_type": "execute_result"
    }
   ],
   "source": [
    "def palindrome(n):\n",
    "    re=0\n",
    "    a=n\n",
    "    while n!=0:\n",
    "        r=n%10\n",
    "        re=(re*10)+r\n",
    "        n=n//10\n",
    "    if re==a:\n",
    "        return \"palindrome\"\n",
    "    return \"not palindrome\"\n",
    "palindrome(129)\n"
   ]
  },
  {
   "cell_type": "code",
   "execution_count": null,
   "metadata": {},
   "outputs": [],
   "source": []
  },
  {
   "cell_type": "code",
   "execution_count": null,
   "metadata": {},
   "outputs": [],
   "source": []
  },
  {
   "cell_type": "code",
   "execution_count": null,
   "metadata": {},
   "outputs": [],
   "source": []
  },
  {
   "cell_type": "code",
   "execution_count": null,
   "metadata": {},
   "outputs": [],
   "source": []
  },
  {
   "cell_type": "code",
   "execution_count": null,
   "metadata": {},
   "outputs": [],
   "source": []
  },
  {
   "cell_type": "code",
   "execution_count": null,
   "metadata": {},
   "outputs": [],
   "source": []
  },
  {
   "cell_type": "code",
   "execution_count": null,
   "metadata": {},
   "outputs": [],
   "source": []
  }
 ],
 "metadata": {
  "kernelspec": {
   "display_name": "Python 3",
   "language": "python",
   "name": "python3"
  },
  "language_info": {
   "codemirror_mode": {
    "name": "ipython",
    "version": 3
   },
   "file_extension": ".py",
   "mimetype": "text/x-python",
   "name": "python",
   "nbconvert_exporter": "python",
   "pygments_lexer": "ipython3",
   "version": "3.7.3"
  }
 },
 "nbformat": 4,
 "nbformat_minor": 2
}
